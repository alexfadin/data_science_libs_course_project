{
 "cells": [
  {
   "cell_type": "code",
   "execution_count": 7,
   "metadata": {},
   "outputs": [
    {
     "name": "stdout",
     "output_type": "stream",
     "text": [
      "Number of objects = 10     \n",
      "Learning rate = 0.01     \n",
      "Initial weights = [1.  0.5] \n",
      "\n",
      "Iteration #20: W_new = [ 9.70637726 10.22071623], MSE = 643.6\n",
      "Iteration #40: W_new = [15.62642367  9.15027805], MSE = 459.62\n",
      "Iteration #60: W_new = [20.55484099  8.2565861 ], MSE = 332.09\n",
      "Iteration #80: W_new = [24.65810422  7.51252258], MSE = 243.69\n",
      "Iteration #100: W_new = [28.07436714  6.89303597], MSE = 182.41\n",
      "Iteration #120: W_new = [30.91865271  6.37726863], MSE = 139.93\n",
      "Iteration #140: W_new = [33.28672582  5.94785509], MSE = 110.49\n",
      "Iteration #160: W_new = [35.25831768  5.5903373 ], MSE = 90.08\n",
      "Iteration #180: W_new = [36.89981028  5.29267793], MSE = 75.93\n",
      "Iteration #200: W_new = [38.26647139  5.04485501], MSE = 66.12\n",
      "Iteration #220: W_new = [39.40431545  4.83852453], MSE = 59.33\n",
      "Iteration #240: W_new = [40.35165279  4.66673951], MSE = 54.61\n",
      "Iteration #260: W_new = [41.14037954  4.52371607], MSE = 51.35\n",
      "Iteration #280: W_new = [41.7970515   4.40463874], MSE = 49.08\n",
      "Iteration #300: W_new = [42.34377833  4.30549826], MSE = 47.51\n",
      "Iteration #320: W_new = [42.7989679   4.22295665], MSE = 46.43\n",
      "Iteration #340: W_new = [43.17794608  4.1542348 ], MSE = 45.67\n",
      "Iteration #360: W_new = [43.49347278  4.09701889], MSE = 45.15\n",
      "Iteration #380: W_new = [43.75617154  4.04938252], MSE = 44.79\n",
      "Iteration #400: W_new = [43.97488723  4.00972181], MSE = 44.54\n",
      "Iteration #420: W_new = [44.15698383  3.9767014 ], MSE = 44.36\n",
      "Iteration #440: W_new = [44.30859241  3.94920952], MSE = 44.24\n",
      "Iteration #460: W_new = [44.43481749  3.92632055], MSE = 44.16\n",
      "Iteration #480: W_new = [44.53990899  3.90726382], MSE = 44.1\n",
      "Iteration #500: W_new = [44.62740525  3.89139773], MSE = 44.06\n",
      "Iteration #520: W_new = [44.7002522   3.87818805], MSE = 44.03\n"
     ]
    }
   ],
   "source": [
    "import numpy as np\n",
    "from collections import deque\n",
    "\n",
    "\n",
    "def calc_mse(y, y_pred):\n",
    "    err = np.mean((y - y_pred)**2) # <=> 1/n * np.sum((y_pred - y)**2)\n",
    "    return err\n",
    "\n",
    "X = np.array([[1, 1, 1, 1, 1, 1, 1, 1, 1, 1],\n",
    "              [1, 1, 2, 5, 3, 0, 5, 10, 1, 2]])\n",
    "\n",
    "y = [45, 55, 50, 55, 60, 35, 75, 80, 50, 60]\n",
    "\n",
    "\n",
    "n = X.shape[1]\n",
    "alpha = 1e-2 # это оптимальная альфа, т.к. при 0.1 мимо минимума на третьей итерации. Возможно есть и лучше, но\n",
    "             # искать ту самую альфу, чтобы сократить десяток итераций..\n",
    "    \n",
    "W = np.array([1, 0.5])\n",
    "print(\n",
    "    \n",
    "    f'Number of objects = {n} \\\n",
    "    \\nLearning rate = {alpha} \\\n",
    "    \\nInitial weights = {W} \\n'\n",
    ")\n",
    "\n",
    "weights = deque([0, W], maxlen=2)  # добавим очередь из двух элементов, куда будем записывать \n",
    "                                   # получающиеся в результате движения веса.\n",
    "\n",
    "k=1\n",
    "\n",
    "while np.linalg.norm(weights[1] - weights[0]) > 30e-4: # методом ненаучного подбора обределена оптимальная для \n",
    "                                                       # соотношения точности к потреблению ресурсов дистанция между векторами.\n",
    "                                                       # Был вариант смотреть как изменяется ошибка, и если изменения малы, \n",
    "                                                       # то останавливать цикл. Но здесь есть зависимость от альфы, т.к. если\n",
    "                                                       # она мала, то изменение ошибки, тоже может быть малым. Поэтому \n",
    "                                                       # от этого варианта пришлось отказаться\n",
    "    y_pred = np.dot(W, X)\n",
    "    err = calc_mse(y, y_pred)\n",
    "    W = W - alpha * (1/n * 2 * np.dot(X, (y_pred - y))) #не очень понимаю почему, но W -= не работает. Пришлось делать некрасиво\n",
    "    \n",
    "    weights.append(W)\n",
    "    \n",
    "    k+=1\n",
    "    if k% 20 == 0:\n",
    "        print(f'Iteration #{k}: W_new = {W}, MSE = {round(err,2)}')"
   ]
  },
  {
   "cell_type": "code",
   "execution_count": null,
   "metadata": {},
   "outputs": [],
   "source": []
  }
 ],
 "metadata": {
  "kernelspec": {
   "display_name": "Python 3",
   "language": "python",
   "name": "python3"
  },
  "language_info": {
   "codemirror_mode": {
    "name": "ipython",
    "version": 3
   },
   "file_extension": ".py",
   "mimetype": "text/x-python",
   "name": "python",
   "nbconvert_exporter": "python",
   "pygments_lexer": "ipython3",
   "version": "3.7.4"
  }
 },
 "nbformat": 4,
 "nbformat_minor": 2
}
